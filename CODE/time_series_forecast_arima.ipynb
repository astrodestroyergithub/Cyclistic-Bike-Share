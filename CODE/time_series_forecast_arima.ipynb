{
 "cells": [
  {
   "cell_type": "markdown",
   "id": "75c2ab14",
   "metadata": {},
   "source": [
    "# Time Series Forecasting - ARIMA"
   ]
  },
  {
   "cell_type": "code",
   "execution_count": 1,
   "id": "626e71fc",
   "metadata": {},
   "outputs": [
    {
     "name": "stdout",
     "output_type": "stream",
     "text": [
      "Requirement already satisfied: setuptools in c:\\users\\tamojit\\appdata\\local\\programs\\python\\python310\\lib\\site-packages (65.6.3)\n",
      "Note: you may need to restart the kernel to use updated packages.\n"
     ]
    }
   ],
   "source": [
    "pip install -U setuptools"
   ]
  },
  {
   "cell_type": "code",
   "execution_count": 2,
   "id": "7238360e",
   "metadata": {},
   "outputs": [
    {
     "name": "stdout",
     "output_type": "stream",
     "text": [
      "Requirement already satisfied: pmdarima in c:\\users\\tamojit\\appdata\\local\\programs\\python\\python310\\lib\\site-packages (2.0.2)\n",
      "Requirement already satisfied: pandas>=0.19 in c:\\users\\tamojit\\appdata\\local\\programs\\python\\python310\\lib\\site-packages (from pmdarima) (1.3.5)\n",
      "Requirement already satisfied: urllib3 in c:\\users\\tamojit\\appdata\\local\\programs\\python\\python310\\lib\\site-packages (from pmdarima) (1.26.13)\n",
      "Requirement already satisfied: scipy>=1.3.2 in c:\\users\\tamojit\\appdata\\local\\programs\\python\\python310\\lib\\site-packages (from pmdarima) (1.7.3)\n",
      "Requirement already satisfied: setuptools!=50.0.0,>=38.6.0 in c:\\users\\tamojit\\appdata\\local\\programs\\python\\python310\\lib\\site-packages (from pmdarima) (65.6.3)\n",
      "Requirement already satisfied: joblib>=0.11 in c:\\users\\tamojit\\appdata\\local\\programs\\python\\python310\\lib\\site-packages (from pmdarima) (1.1.0)\n",
      "Requirement already satisfied: Cython!=0.29.18,!=0.29.31,>=0.29 in c:\\users\\tamojit\\appdata\\local\\programs\\python\\python310\\lib\\site-packages (from pmdarima) (0.29.32)\n",
      "Requirement already satisfied: numpy>=1.21.2 in c:\\users\\tamojit\\appdata\\local\\programs\\python\\python310\\lib\\site-packages (from pmdarima) (1.22.4)\n",
      "Requirement already satisfied: scikit-learn>=0.22 in c:\\users\\tamojit\\appdata\\local\\programs\\python\\python310\\lib\\site-packages (from pmdarima) (1.0.2)\n",
      "Requirement already satisfied: statsmodels>=0.13.2 in c:\\users\\tamojit\\appdata\\local\\programs\\python\\python310\\lib\\site-packages (from pmdarima) (0.13.5)\n",
      "Requirement already satisfied: python-dateutil>=2.7.3 in c:\\users\\tamojit\\appdata\\local\\programs\\python\\python310\\lib\\site-packages (from pandas>=0.19->pmdarima) (2.8.2)\n",
      "Requirement already satisfied: pytz>=2017.3 in c:\\users\\tamojit\\appdata\\local\\programs\\python\\python310\\lib\\site-packages (from pandas>=0.19->pmdarima) (2021.3)\n",
      "Requirement already satisfied: threadpoolctl>=2.0.0 in c:\\users\\tamojit\\appdata\\local\\programs\\python\\python310\\lib\\site-packages (from scikit-learn>=0.22->pmdarima) (3.0.0)\n",
      "Requirement already satisfied: patsy>=0.5.2 in c:\\users\\tamojit\\appdata\\local\\programs\\python\\python310\\lib\\site-packages (from statsmodels>=0.13.2->pmdarima) (0.5.2)\n",
      "Requirement already satisfied: packaging>=21.3 in c:\\users\\tamojit\\appdata\\local\\programs\\python\\python310\\lib\\site-packages (from statsmodels>=0.13.2->pmdarima) (21.3)\n",
      "Requirement already satisfied: pyparsing!=3.0.5,>=2.0.2 in c:\\users\\tamojit\\appdata\\local\\programs\\python\\python310\\lib\\site-packages (from packaging>=21.3->statsmodels>=0.13.2->pmdarima) (2.4.7)\n",
      "Requirement already satisfied: six in c:\\users\\tamojit\\appdata\\local\\programs\\python\\python310\\lib\\site-packages (from patsy>=0.5.2->statsmodels>=0.13.2->pmdarima) (1.16.0)\n",
      "Note: you may need to restart the kernel to use updated packages.\n"
     ]
    }
   ],
   "source": [
    "pip install pmdarima"
   ]
  },
  {
   "cell_type": "code",
   "execution_count": 3,
   "id": "94642032",
   "metadata": {},
   "outputs": [],
   "source": [
    "import pandas as pd\n",
    "import numpy as np"
   ]
  },
  {
   "cell_type": "markdown",
   "id": "2f41f105",
   "metadata": {},
   "source": [
    "Read Data"
   ]
  },
  {
   "cell_type": "code",
   "execution_count": 4,
   "id": "ea5aff3d",
   "metadata": {},
   "outputs": [
    {
     "name": "stdout",
     "output_type": "stream",
     "text": [
      "Shape of data (76000, 1)\n"
     ]
    },
    {
     "data": {
      "text/html": [
       "<div>\n",
       "<style scoped>\n",
       "    .dataframe tbody tr th:only-of-type {\n",
       "        vertical-align: middle;\n",
       "    }\n",
       "\n",
       "    .dataframe tbody tr th {\n",
       "        vertical-align: top;\n",
       "    }\n",
       "\n",
       "    .dataframe thead th {\n",
       "        text-align: right;\n",
       "    }\n",
       "</style>\n",
       "<table border=\"1\" class=\"dataframe\">\n",
       "  <thead>\n",
       "    <tr style=\"text-align: right;\">\n",
       "      <th></th>\n",
       "      <th>trip_duration</th>\n",
       "    </tr>\n",
       "    <tr>\n",
       "      <th>start_time</th>\n",
       "      <th></th>\n",
       "    </tr>\n",
       "  </thead>\n",
       "  <tbody>\n",
       "    <tr>\n",
       "      <th>2013-08-16 17:40:00</th>\n",
       "      <td>2729</td>\n",
       "    </tr>\n",
       "    <tr>\n",
       "      <th>2014-07-14 17:17:00</th>\n",
       "      <td>277</td>\n",
       "    </tr>\n",
       "    <tr>\n",
       "      <th>2014-06-19 18:04:00</th>\n",
       "      <td>566</td>\n",
       "    </tr>\n",
       "    <tr>\n",
       "      <th>2014-07-09 19:46:00</th>\n",
       "      <td>637</td>\n",
       "    </tr>\n",
       "    <tr>\n",
       "      <th>2014-06-27 16:19:00</th>\n",
       "      <td>161</td>\n",
       "    </tr>\n",
       "  </tbody>\n",
       "</table>\n",
       "</div>"
      ],
      "text/plain": [
       "                     trip_duration\n",
       "start_time                        \n",
       "2013-08-16 17:40:00           2729\n",
       "2014-07-14 17:17:00            277\n",
       "2014-06-19 18:04:00            566\n",
       "2014-07-09 19:46:00            637\n",
       "2014-06-27 16:19:00            161"
      ]
     },
     "execution_count": 4,
     "metadata": {},
     "output_type": "execute_result"
    }
   ],
   "source": [
    "# import csv dataset\n",
    "df=pd.read_csv('divvy-tripdata_cleaned.csv',index_col=1,parse_dates=True)\n",
    "\n",
    "# make into dataframe\n",
    "df2=pd.DataFrame(df)\n",
    "\n",
    "# which columns to include alongside column acting as index\n",
    "cols=[3]\n",
    "df2=df2[df2.columns[cols]]\n",
    "\n",
    "# printing shape of dataset and its head\n",
    "print('Shape of data',df2.shape)\n",
    "df2.head()"
   ]
  },
  {
   "cell_type": "markdown",
   "id": "917b2205",
   "metadata": {},
   "source": [
    "Plot your data"
   ]
  },
  {
   "cell_type": "code",
   "execution_count": 5,
   "id": "dd0e3bfe",
   "metadata": {},
   "outputs": [
    {
     "data": {
      "text/plain": [
       "<AxesSubplot:xlabel='start_time'>"
      ]
     },
     "execution_count": 5,
     "metadata": {},
     "output_type": "execute_result"
    },
    {
     "data": {
      "image/png": "[encoded data removed]",
      "text/plain": [
       "<Figure size 1728x720 with 1 Axes>"
      ]
     },
     "metadata": {
      "needs_background": "light"
     },
     "output_type": "display_data"
    }
   ],
   "source": [
    "df2['trip_duration'].plot(figsize=(24,10))"
   ]
  },
  {
   "cell_type": "markdown",
   "id": "0611483c",
   "metadata": {},
   "source": [
    "Check for Stationarity"
   ]
  },
  {
   "cell_type": "code",
   "execution_count": 6,
   "id": "f24d50dc",
   "metadata": {},
   "outputs": [
    {
     "name": "stdout",
     "output_type": "stream",
     "text": [
      "1. ADF :  -275.94903092250775\n",
      "2. P-Value :  0.0\n",
      "3. No. of Lags :  0\n",
      "4. No. of Observations used for ADF Regression and Critical Value Calculation :  75999\n",
      "5. Critical Values :\n",
      "\t 1% :  -3.4304360474596383\n",
      "\t 5% :  -2.8615780314967068\n",
      "\t 10% :  -2.566790242857946\n"
     ]
    }
   ],
   "source": [
    "# performing \"Augmented Dickey Fuller\" test to check for stationarity of data\n",
    "\n",
    "from statsmodels.tsa.stattools import adfuller\n",
    "\n",
    "dftest=adfuller(df2['trip_duration'],autolag='AIC')\n",
    "\n",
    "print(\"1. ADF : \",dftest[0])\n",
    "print(\"2. P-Value : \",dftest[1])\n",
    "print(\"3. No. of Lags : \",dftest[2])\n",
    "print(\"4. No. of Observations used for ADF Regression and Critical Value Calculation : \",dftest[3])\n",
    "print(\"5. Critical Values :\")\n",
    "for key,val in dftest[4].items():\n",
    "    print(\"\\t\",key, \": \",val)"
   ]
  },
  {
   "cell_type": "markdown",
   "id": "c9896ef6",
   "metadata": {},
   "source": [
    "Figure out Order for ARIMA Model"
   ]
  },
  {
   "cell_type": "code",
   "execution_count": 7,
   "id": "e2837d47",
   "metadata": {},
   "outputs": [],
   "source": [
    "from pmdarima import auto_arima\n",
    "# ignore harmless warnings\n",
    "import warnings\n",
    "warnings.filterwarnings(\"ignore\")"
   ]
  },
  {
   "cell_type": "code",
   "execution_count": 8,
   "id": "a4e155f8",
   "metadata": {},
   "outputs": [
    {
     "name": "stdout",
     "output_type": "stream",
     "text": [
      "Performing stepwise search to minimize aic\n",
      " ARIMA(2,0,2)(0,0,0)[0] intercept   : AIC=1392042.923, Time=16.50 sec\n",
      " ARIMA(0,0,0)(0,0,0)[0] intercept   : AIC=1392035.558, Time=1.42 sec\n",
      " ARIMA(1,0,0)(0,0,0)[0] intercept   : AIC=1392037.483, Time=4.44 sec\n",
      " ARIMA(0,0,1)(0,0,0)[0] intercept   : AIC=1392037.487, Time=4.14 sec\n",
      " ARIMA(0,0,0)(0,0,0)[0]             : AIC=1408673.207, Time=0.83 sec\n",
      " ARIMA(1,0,1)(0,0,0)[0] intercept   : AIC=1392039.484, Time=8.64 sec\n",
      "\n",
      "Best model:  ARIMA(0,0,0)(0,0,0)[0] intercept\n",
      "Total fit time: 35.992 seconds\n"
     ]
    },
    {
     "data": {
      "text/html": [
       "<table class=\"simpletable\">\n",
       "<caption>SARIMAX Results</caption>\n",
       "<tr>\n",
       "  <th>Dep. Variable:</th>           <td>y</td>        <th>  No. Observations:  </th>    <td>76000</td>   \n",
       "</tr>\n",
       "<tr>\n",
       "  <th>Model:</th>                <td>SARIMAX</td>     <th>  Log Likelihood     </th> <td>-696015.779</td>\n",
       "</tr>\n",
       "<tr>\n",
       "  <th>Date:</th>            <td>Thu, 08 Dec 2022</td> <th>  AIC                </th> <td>1392035.558</td>\n",
       "</tr>\n",
       "<tr>\n",
       "  <th>Time:</th>                <td>20:20:42</td>     <th>  BIC                </th> <td>1392054.035</td>\n",
       "</tr>\n",
       "<tr>\n",
       "  <th>Sample:</th>                  <td>0</td>        <th>  HQIC               </th> <td>1392041.235</td>\n",
       "</tr>\n",
       "<tr>\n",
       "  <th></th>                     <td> - 76000</td>     <th>                     </th>      <td> </td>     \n",
       "</tr>\n",
       "<tr>\n",
       "  <th>Covariance Type:</th>        <td>opg</td>       <th>                     </th>      <td> </td>     \n",
       "</tr>\n",
       "</table>\n",
       "<table class=\"simpletable\">\n",
       "<tr>\n",
       "      <td></td>         <th>coef</th>     <th>std err</th>      <th>z</th>      <th>P>|z|</th>  <th>[0.025</th>    <th>0.975]</th>  \n",
       "</tr>\n",
       "<tr>\n",
       "  <th>intercept</th> <td> 1136.1780</td> <td>   15.935</td> <td>   71.299</td> <td> 0.000</td> <td> 1104.945</td> <td> 1167.411</td>\n",
       "</tr>\n",
       "<tr>\n",
       "  <th>sigma2</th>    <td> 5.274e+06</td> <td> 3087.682</td> <td> 1708.125</td> <td> 0.000</td> <td> 5.27e+06</td> <td> 5.28e+06</td>\n",
       "</tr>\n",
       "</table>\n",
       "<table class=\"simpletable\">\n",
       "<tr>\n",
       "  <th>Ljung-Box (L1) (Q):</th>     <td>0.07</td> <th>  Jarque-Bera (JB):  </th> <td>997956307.88</td>\n",
       "</tr>\n",
       "<tr>\n",
       "  <th>Prob(Q):</th>                <td>0.79</td> <th>  Prob(JB):          </th>     <td>0.00</td>    \n",
       "</tr>\n",
       "<tr>\n",
       "  <th>Heteroskedasticity (H):</th> <td>0.92</td> <th>  Skew:              </th>     <td>20.21</td>   \n",
       "</tr>\n",
       "<tr>\n",
       "  <th>Prob(H) (two-sided):</th>    <td>0.00</td> <th>  Kurtosis:          </th>    <td>562.92</td>   \n",
       "</tr>\n",
       "</table><br/><br/>Warnings:<br/>[1] Covariance matrix calculated using the outer product of gradients (complex-step)."
      ],
      "text/plain": [
       "<class 'statsmodels.iolib.summary.Summary'>\n",
       "\"\"\"\n",
       "                               SARIMAX Results                                \n",
       "==============================================================================\n",
       "Dep. Variable:                      y   No. Observations:                76000\n",
       "Model:                        SARIMAX   Log Likelihood             -696015.779\n",
       "Date:                Thu, 08 Dec 2022   AIC                        1392035.558\n",
       "Time:                        20:20:42   BIC                        1392054.035\n",
       "Sample:                             0   HQIC                       1392041.235\n",
       "                              - 76000                                         \n",
       "Covariance Type:                  opg                                         \n",
       "==============================================================================\n",
       "                 coef    std err          z      P>|z|      [0.025      0.975]\n",
       "------------------------------------------------------------------------------\n",
       "intercept   1136.1780     15.935     71.299      0.000    1104.945    1167.411\n",
       "sigma2      5.274e+06   3087.682   1708.125      0.000    5.27e+06    5.28e+06\n",
       "===================================================================================\n",
       "Ljung-Box (L1) (Q):                   0.07   Jarque-Bera (JB):         997956307.88\n",
       "Prob(Q):                              0.79   Prob(JB):                         0.00\n",
       "Heteroskedasticity (H):               0.92   Skew:                            20.21\n",
       "Prob(H) (two-sided):                  0.00   Kurtosis:                       562.92\n",
       "===================================================================================\n",
       "\n",
       "Warnings:\n",
       "[1] Covariance matrix calculated using the outer product of gradients (complex-step).\n",
       "\"\"\""
      ]
     },
     "execution_count": 8,
     "metadata": {},
     "output_type": "execute_result"
    }
   ],
   "source": [
    "# calling the auto_arima() function\n",
    "# Auto ARIMA is going to try for different combinations (like (0,1,0), (0,1,1), (0,1,2), etc.) \n",
    "# and for every order it is going to assign a score called the AIC\n",
    "# the goal is to minimize the AIC (Akaike’s Information Criterion)\n",
    "\n",
    "stepwise_fit=auto_arima(df2['trip_duration'],trace=True,suppress_warnings=True)\n",
    "\n",
    "# performing step-wise search to minimize AIC score\n",
    "\n",
    "stepwise_fit.summary()"
   ]
  },
  {
   "cell_type": "code",
   "execution_count": 9,
   "id": "dc6d110b",
   "metadata": {},
   "outputs": [],
   "source": [
    "from statsmodels.tsa.arima.model import ARIMA"
   ]
  },
  {
   "cell_type": "markdown",
   "id": "4c21069b",
   "metadata": {},
   "source": [
    "Split Data into Training and Testing"
   ]
  },
  {
   "cell_type": "code",
   "execution_count": 10,
   "id": "57dc0d87",
   "metadata": {},
   "outputs": [
    {
     "name": "stdout",
     "output_type": "stream",
     "text": [
      "(76000, 1)\n",
      "(68400, 1) (7600, 1)\n"
     ]
    }
   ],
   "source": [
    "print(df2.shape)\n",
    "train=df2.iloc[:-7600]\n",
    "test=df2.iloc[-7600:]\n",
    "print(train.shape,test.shape)"
   ]
  },
  {
   "cell_type": "markdown",
   "id": "e42a6b17",
   "metadata": {},
   "source": [
    "Train the Model"
   ]
  },
  {
   "cell_type": "code",
   "execution_count": 11,
   "id": "44b6845c",
   "metadata": {},
   "outputs": [
    {
     "data": {
      "text/html": [
       "<table class=\"simpletable\">\n",
       "<caption>SARIMAX Results</caption>\n",
       "<tr>\n",
       "  <th>Dep. Variable:</th>     <td>trip_duration</td>  <th>  No. Observations:  </th>    <td>68400</td>   \n",
       "</tr>\n",
       "<tr>\n",
       "  <th>Model:</th>            <td>ARIMA(0, 0, 1)</td>  <th>  Log Likelihood     </th> <td>-625532.509</td>\n",
       "</tr>\n",
       "<tr>\n",
       "  <th>Date:</th>            <td>Thu, 08 Dec 2022</td> <th>  AIC                </th> <td>1251071.017</td>\n",
       "</tr>\n",
       "<tr>\n",
       "  <th>Time:</th>                <td>20:21:01</td>     <th>  BIC                </th> <td>1251098.417</td>\n",
       "</tr>\n",
       "<tr>\n",
       "  <th>Sample:</th>                  <td>0</td>        <th>  HQIC               </th> <td>1251079.477</td>\n",
       "</tr>\n",
       "<tr>\n",
       "  <th></th>                     <td> - 68400</td>     <th>                     </th>      <td> </td>     \n",
       "</tr>\n",
       "<tr>\n",
       "  <th>Covariance Type:</th>        <td>opg</td>       <th>                     </th>      <td> </td>     \n",
       "</tr>\n",
       "</table>\n",
       "<table class=\"simpletable\">\n",
       "<tr>\n",
       "     <td></td>       <th>coef</th>     <th>std err</th>      <th>z</th>      <th>P>|z|</th>  <th>[0.025</th>    <th>0.975]</th>  \n",
       "</tr>\n",
       "<tr>\n",
       "  <th>const</th>  <td> 1133.4162</td> <td>   16.378</td> <td>   69.205</td> <td> 0.000</td> <td> 1101.317</td> <td> 1165.516</td>\n",
       "</tr>\n",
       "<tr>\n",
       "  <th>ma.L1</th>  <td>   -0.0008</td> <td>    0.006</td> <td>   -0.129</td> <td> 0.897</td> <td>   -0.012</td> <td>    0.011</td>\n",
       "</tr>\n",
       "<tr>\n",
       "  <th>sigma2</th> <td>  5.14e+06</td> <td> 3109.608</td> <td> 1652.993</td> <td> 0.000</td> <td> 5.13e+06</td> <td> 5.15e+06</td>\n",
       "</tr>\n",
       "</table>\n",
       "<table class=\"simpletable\">\n",
       "<tr>\n",
       "  <th>Ljung-Box (L1) (Q):</th>     <td>0.00</td> <th>  Jarque-Bera (JB):  </th> <td>931446372.87</td>\n",
       "</tr>\n",
       "<tr>\n",
       "  <th>Prob(Q):</th>                <td>1.00</td> <th>  Prob(JB):          </th>     <td>0.00</td>    \n",
       "</tr>\n",
       "<tr>\n",
       "  <th>Heteroskedasticity (H):</th> <td>0.84</td> <th>  Skew:              </th>     <td>20.29</td>   \n",
       "</tr>\n",
       "<tr>\n",
       "  <th>Prob(H) (two-sided):</th>    <td>0.00</td> <th>  Kurtosis:          </th>    <td>573.24</td>   \n",
       "</tr>\n",
       "</table><br/><br/>Warnings:<br/>[1] Covariance matrix calculated using the outer product of gradients (complex-step)."
      ],
      "text/plain": [
       "<class 'statsmodels.iolib.summary.Summary'>\n",
       "\"\"\"\n",
       "                               SARIMAX Results                                \n",
       "==============================================================================\n",
       "Dep. Variable:          trip_duration   No. Observations:                68400\n",
       "Model:                 ARIMA(0, 0, 1)   Log Likelihood             -625532.509\n",
       "Date:                Thu, 08 Dec 2022   AIC                        1251071.017\n",
       "Time:                        20:21:01   BIC                        1251098.417\n",
       "Sample:                             0   HQIC                       1251079.477\n",
       "                              - 68400                                         \n",
       "Covariance Type:                  opg                                         \n",
       "==============================================================================\n",
       "                 coef    std err          z      P>|z|      [0.025      0.975]\n",
       "------------------------------------------------------------------------------\n",
       "const       1133.4162     16.378     69.205      0.000    1101.317    1165.516\n",
       "ma.L1         -0.0008      0.006     -0.129      0.897      -0.012       0.011\n",
       "sigma2       5.14e+06   3109.608   1652.993      0.000    5.13e+06    5.15e+06\n",
       "===================================================================================\n",
       "Ljung-Box (L1) (Q):                   0.00   Jarque-Bera (JB):         931446372.87\n",
       "Prob(Q):                              1.00   Prob(JB):                         0.00\n",
       "Heteroskedasticity (H):               0.84   Skew:                            20.29\n",
       "Prob(H) (two-sided):                  0.00   Kurtosis:                       573.24\n",
       "===================================================================================\n",
       "\n",
       "Warnings:\n",
       "[1] Covariance matrix calculated using the outer product of gradients (complex-step).\n",
       "\"\"\""
      ]
     },
     "execution_count": 11,
     "metadata": {},
     "output_type": "execute_result"
    }
   ],
   "source": [
    "model=ARIMA(train['trip_duration'],order=(0,0,1))\n",
    "model=model.fit()\n",
    "model.summary()"
   ]
  },
  {
   "cell_type": "code",
   "execution_count": 12,
   "id": "c05e805f",
   "metadata": {},
   "outputs": [
    {
     "data": {
      "text/html": [
       "<table class=\"simpletable\">\n",
       "<caption>SARIMAX Results</caption>\n",
       "<tr>\n",
       "  <th>Dep. Variable:</th>     <td>trip_duration</td>  <th>  No. Observations:  </th>    <td>68400</td>   \n",
       "</tr>\n",
       "<tr>\n",
       "  <th>Model:</th>            <td>ARIMA(0, 1, 0)</td>  <th>  Log Likelihood     </th> <td>-649254.676</td>\n",
       "</tr>\n",
       "<tr>\n",
       "  <th>Date:</th>            <td>Thu, 08 Dec 2022</td> <th>  AIC                </th> <td>1298511.351</td>\n",
       "</tr>\n",
       "<tr>\n",
       "  <th>Time:</th>                <td>20:21:15</td>     <th>  BIC                </th> <td>1298520.485</td>\n",
       "</tr>\n",
       "<tr>\n",
       "  <th>Sample:</th>                  <td>0</td>        <th>  HQIC               </th> <td>1298514.171</td>\n",
       "</tr>\n",
       "<tr>\n",
       "  <th></th>                     <td> - 68400</td>     <th>                     </th>      <td> </td>     \n",
       "</tr>\n",
       "<tr>\n",
       "  <th>Covariance Type:</th>        <td>opg</td>       <th>                     </th>      <td> </td>     \n",
       "</tr>\n",
       "</table>\n",
       "<table class=\"simpletable\">\n",
       "<tr>\n",
       "     <td></td>       <th>coef</th>     <th>std err</th>      <th>z</th>      <th>P>|z|</th>  <th>[0.025</th>    <th>0.975]</th>  \n",
       "</tr>\n",
       "<tr>\n",
       "  <th>sigma2</th> <td> 1.029e+07</td> <td> 4630.216</td> <td> 2221.820</td> <td> 0.000</td> <td> 1.03e+07</td> <td> 1.03e+07</td>\n",
       "</tr>\n",
       "</table>\n",
       "<table class=\"simpletable\">\n",
       "<tr>\n",
       "  <th>Ljung-Box (L1) (Q):</th>     <td>17045.76</td> <th>  Jarque-Bera (JB):  </th> <td>234223521.53</td>\n",
       "</tr>\n",
       "<tr>\n",
       "  <th>Prob(Q):</th>                  <td>0.00</td>   <th>  Prob(JB):          </th>     <td>0.00</td>    \n",
       "</tr>\n",
       "<tr>\n",
       "  <th>Heteroskedasticity (H):</th>   <td>0.84</td>   <th>  Skew:              </th>     <td>-0.06</td>   \n",
       "</tr>\n",
       "<tr>\n",
       "  <th>Prob(H) (two-sided):</th>      <td>0.00</td>   <th>  Kurtosis:          </th>    <td>289.68</td>   \n",
       "</tr>\n",
       "</table><br/><br/>Warnings:<br/>[1] Covariance matrix calculated using the outer product of gradients (complex-step)."
      ],
      "text/plain": [
       "<class 'statsmodels.iolib.summary.Summary'>\n",
       "\"\"\"\n",
       "                               SARIMAX Results                                \n",
       "==============================================================================\n",
       "Dep. Variable:          trip_duration   No. Observations:                68400\n",
       "Model:                 ARIMA(0, 1, 0)   Log Likelihood             -649254.676\n",
       "Date:                Thu, 08 Dec 2022   AIC                        1298511.351\n",
       "Time:                        20:21:15   BIC                        1298520.485\n",
       "Sample:                             0   HQIC                       1298514.171\n",
       "                              - 68400                                         \n",
       "Covariance Type:                  opg                                         \n",
       "==============================================================================\n",
       "                 coef    std err          z      P>|z|      [0.025      0.975]\n",
       "------------------------------------------------------------------------------\n",
       "sigma2      1.029e+07   4630.216   2221.820      0.000    1.03e+07    1.03e+07\n",
       "===================================================================================\n",
       "Ljung-Box (L1) (Q):               17045.76   Jarque-Bera (JB):         234223521.53\n",
       "Prob(Q):                              0.00   Prob(JB):                         0.00\n",
       "Heteroskedasticity (H):               0.84   Skew:                            -0.06\n",
       "Prob(H) (two-sided):                  0.00   Kurtosis:                       289.68\n",
       "===================================================================================\n",
       "\n",
       "Warnings:\n",
       "[1] Covariance matrix calculated using the outer product of gradients (complex-step).\n",
       "\"\"\""
      ]
     },
     "execution_count": 12,
     "metadata": {},
     "output_type": "execute_result"
    }
   ],
   "source": [
    "model=ARIMA(train['trip_duration'],order=(0,1,0))\n",
    "model=model.fit()\n",
    "model.summary()"
   ]
  },
  {
   "cell_type": "code",
   "execution_count": 13,
   "id": "7ec97e59",
   "metadata": {},
   "outputs": [
    {
     "data": {
      "text/html": [
       "<table class=\"simpletable\">\n",
       "<caption>SARIMAX Results</caption>\n",
       "<tr>\n",
       "  <th>Dep. Variable:</th>     <td>trip_duration</td>  <th>  No. Observations:  </th>    <td>68400</td>   \n",
       "</tr>\n",
       "<tr>\n",
       "  <th>Model:</th>            <td>ARIMA(1, 1, 1)</td>  <th>  Log Likelihood     </th> <td>-625528.902</td>\n",
       "</tr>\n",
       "<tr>\n",
       "  <th>Date:</th>            <td>Thu, 08 Dec 2022</td> <th>  AIC                </th> <td>1251063.803</td>\n",
       "</tr>\n",
       "<tr>\n",
       "  <th>Time:</th>                <td>20:21:47</td>     <th>  BIC                </th> <td>1251091.202</td>\n",
       "</tr>\n",
       "<tr>\n",
       "  <th>Sample:</th>                  <td>0</td>        <th>  HQIC               </th> <td>1251072.263</td>\n",
       "</tr>\n",
       "<tr>\n",
       "  <th></th>                     <td> - 68400</td>     <th>                     </th>      <td> </td>     \n",
       "</tr>\n",
       "<tr>\n",
       "  <th>Covariance Type:</th>        <td>opg</td>       <th>                     </th>      <td> </td>     \n",
       "</tr>\n",
       "</table>\n",
       "<table class=\"simpletable\">\n",
       "<tr>\n",
       "     <td></td>       <th>coef</th>     <th>std err</th>      <th>z</th>      <th>P>|z|</th>  <th>[0.025</th>    <th>0.975]</th>  \n",
       "</tr>\n",
       "<tr>\n",
       "  <th>ar.L1</th>  <td>   -0.0007</td> <td>    0.006</td> <td>   -0.124</td> <td> 0.902</td> <td>   -0.012</td> <td>    0.011</td>\n",
       "</tr>\n",
       "<tr>\n",
       "  <th>ma.L1</th>  <td>   -1.0000</td> <td>    0.000</td> <td>-3176.112</td> <td> 0.000</td> <td>   -1.001</td> <td>   -0.999</td>\n",
       "</tr>\n",
       "<tr>\n",
       "  <th>sigma2</th> <td> 5.141e+06</td> <td> 8.36e-11</td> <td> 6.15e+16</td> <td> 0.000</td> <td> 5.14e+06</td> <td> 5.14e+06</td>\n",
       "</tr>\n",
       "</table>\n",
       "<table class=\"simpletable\">\n",
       "<tr>\n",
       "  <th>Ljung-Box (L1) (Q):</th>     <td>0.00</td> <th>  Jarque-Bera (JB):  </th> <td>931158830.95</td>\n",
       "</tr>\n",
       "<tr>\n",
       "  <th>Prob(Q):</th>                <td>0.99</td> <th>  Prob(JB):          </th>     <td>0.00</td>    \n",
       "</tr>\n",
       "<tr>\n",
       "  <th>Heteroskedasticity (H):</th> <td>0.84</td> <th>  Skew:              </th>     <td>20.29</td>   \n",
       "</tr>\n",
       "<tr>\n",
       "  <th>Prob(H) (two-sided):</th>    <td>0.00</td> <th>  Kurtosis:          </th>    <td>573.16</td>   \n",
       "</tr>\n",
       "</table><br/><br/>Warnings:<br/>[1] Covariance matrix calculated using the outer product of gradients (complex-step).<br/>[2] Covariance matrix is singular or near-singular, with condition number    inf. Standard errors may be unstable."
      ],
      "text/plain": [
       "<class 'statsmodels.iolib.summary.Summary'>\n",
       "\"\"\"\n",
       "                               SARIMAX Results                                \n",
       "==============================================================================\n",
       "Dep. Variable:          trip_duration   No. Observations:                68400\n",
       "Model:                 ARIMA(1, 1, 1)   Log Likelihood             -625528.902\n",
       "Date:                Thu, 08 Dec 2022   AIC                        1251063.803\n",
       "Time:                        20:21:47   BIC                        1251091.202\n",
       "Sample:                             0   HQIC                       1251072.263\n",
       "                              - 68400                                         \n",
       "Covariance Type:                  opg                                         \n",
       "==============================================================================\n",
       "                 coef    std err          z      P>|z|      [0.025      0.975]\n",
       "------------------------------------------------------------------------------\n",
       "ar.L1         -0.0007      0.006     -0.124      0.902      -0.012       0.011\n",
       "ma.L1         -1.0000      0.000  -3176.112      0.000      -1.001      -0.999\n",
       "sigma2      5.141e+06   8.36e-11   6.15e+16      0.000    5.14e+06    5.14e+06\n",
       "===================================================================================\n",
       "Ljung-Box (L1) (Q):                   0.00   Jarque-Bera (JB):         931158830.95\n",
       "Prob(Q):                              0.99   Prob(JB):                         0.00\n",
       "Heteroskedasticity (H):               0.84   Skew:                            20.29\n",
       "Prob(H) (two-sided):                  0.00   Kurtosis:                       573.16\n",
       "===================================================================================\n",
       "\n",
       "Warnings:\n",
       "[1] Covariance matrix calculated using the outer product of gradients (complex-step).\n",
       "[2] Covariance matrix is singular or near-singular, with condition number    inf. Standard errors may be unstable.\n",
       "\"\"\""
      ]
     },
     "execution_count": 13,
     "metadata": {},
     "output_type": "execute_result"
    }
   ],
   "source": [
    "model=ARIMA(train['trip_duration'],order=(1,1,1))\n",
    "model=model.fit()\n",
    "model.summary()"
   ]
  },
  {
   "cell_type": "markdown",
   "id": "1ca6d150",
   "metadata": {},
   "source": [
    "Make Predictions on Test Set"
   ]
  },
  {
   "cell_type": "code",
   "execution_count": 14,
   "id": "73b08bc9",
   "metadata": {},
   "outputs": [
    {
     "name": "stdout",
     "output_type": "stream",
     "text": [
      "68400    1133.884930\n",
      "68401    1133.401711\n",
      "68402    1133.402060\n",
      "68403    1133.402060\n",
      "68404    1133.402060\n",
      "            ...     \n",
      "75995    1133.402060\n",
      "75996    1133.402060\n",
      "75997    1133.402060\n",
      "75998    1133.402060\n",
      "75999    1133.402060\n",
      "Name: predicted_mean, Length: 7600, dtype: float64\n"
     ]
    }
   ],
   "source": [
    "start=len(train)\n",
    "end=len(train)+len(test)-1\n",
    "pred=model.predict(start=start,end=end,type='levels')\n",
    "print(pred)\n",
    "# pred.index=df.index[start:end-1]\n",
    "# print(pred)"
   ]
  },
  {
   "cell_type": "code",
   "execution_count": 15,
   "id": "8098ee62",
   "metadata": {},
   "outputs": [
    {
     "data": {
      "text/plain": [
       "<AxesSubplot:xlabel='start_time'>"
      ]
     },
     "execution_count": 15,
     "metadata": {},
     "output_type": "execute_result"
    },
    {
     "data": {
      "image/png": "[encoded data removed]",
      "text/plain": [
       "<Figure size 432x288 with 1 Axes>"
      ]
     },
     "metadata": {
      "needs_background": "light"
     },
     "output_type": "display_data"
    }
   ],
   "source": [
    "pred.plot(legend=True)\n",
    "test['trip_duration'].plot(legend=True)"
   ]
  },
  {
   "cell_type": "code",
   "execution_count": 16,
   "id": "20ece42c",
   "metadata": {},
   "outputs": [
    {
     "data": {
      "text/plain": [
       "1161.0343421052632"
      ]
     },
     "execution_count": 16,
     "metadata": {},
     "output_type": "execute_result"
    }
   ],
   "source": [
    "test['trip_duration'].mean()"
   ]
  },
  {
   "cell_type": "code",
   "execution_count": 17,
   "id": "f6fac47c",
   "metadata": {},
   "outputs": [
    {
     "name": "stdout",
     "output_type": "stream",
     "text": [
      "2546.034108546844\n"
     ]
    }
   ],
   "source": [
    "from sklearn.metrics import mean_squared_error\n",
    "from math import sqrt\n",
    "rmse=sqrt(mean_squared_error(pred,test['trip_duration']))\n",
    "print(rmse)"
   ]
  },
  {
   "cell_type": "code",
   "execution_count": 18,
   "id": "73b0af20",
   "metadata": {},
   "outputs": [
    {
     "data": {
      "text/html": [
       "<div>\n",
       "<style scoped>\n",
       "    .dataframe tbody tr th:only-of-type {\n",
       "        vertical-align: middle;\n",
       "    }\n",
       "\n",
       "    .dataframe tbody tr th {\n",
       "        vertical-align: top;\n",
       "    }\n",
       "\n",
       "    .dataframe thead th {\n",
       "        text-align: right;\n",
       "    }\n",
       "</style>\n",
       "<table border=\"1\" class=\"dataframe\">\n",
       "  <thead>\n",
       "    <tr style=\"text-align: right;\">\n",
       "      <th></th>\n",
       "      <th>trip_duration</th>\n",
       "    </tr>\n",
       "    <tr>\n",
       "      <th>start_time</th>\n",
       "      <th></th>\n",
       "    </tr>\n",
       "  </thead>\n",
       "  <tbody>\n",
       "    <tr>\n",
       "      <th>2013-08-01 19:52:00</th>\n",
       "      <td>958</td>\n",
       "    </tr>\n",
       "    <tr>\n",
       "      <th>2014-07-07 22:41:00</th>\n",
       "      <td>844</td>\n",
       "    </tr>\n",
       "    <tr>\n",
       "      <th>2013-11-23 09:05:00</th>\n",
       "      <td>1409</td>\n",
       "    </tr>\n",
       "    <tr>\n",
       "      <th>2014-03-10 14:19:00</th>\n",
       "      <td>809</td>\n",
       "    </tr>\n",
       "    <tr>\n",
       "      <th>2014-03-11 13:56:00</th>\n",
       "      <td>1885</td>\n",
       "    </tr>\n",
       "  </tbody>\n",
       "</table>\n",
       "</div>"
      ],
      "text/plain": [
       "                     trip_duration\n",
       "start_time                        \n",
       "2013-08-01 19:52:00            958\n",
       "2014-07-07 22:41:00            844\n",
       "2013-11-23 09:05:00           1409\n",
       "2014-03-10 14:19:00            809\n",
       "2014-03-11 13:56:00           1885"
      ]
     },
     "execution_count": 18,
     "metadata": {},
     "output_type": "execute_result"
    }
   ],
   "source": [
    "model2=ARIMA(df2['trip_duration'],order=(1,0,0))\n",
    "model2=model2.fit()\n",
    "df2.tail()"
   ]
  },
  {
   "cell_type": "markdown",
   "id": "22be825b",
   "metadata": {},
   "source": [
    "For Future Dates"
   ]
  },
  {
   "cell_type": "code",
   "execution_count": 19,
   "id": "90347bd8",
   "metadata": {},
   "outputs": [
    {
     "name": "stdout",
     "output_type": "stream",
     "text": [
      "DatetimeIndex(['2014-02-26 19:28:00', '2014-02-27 19:28:00',\n",
      "               '2014-02-28 19:28:00', '2014-03-01 19:28:00',\n",
      "               '2014-03-02 19:28:00', '2014-03-03 19:28:00',\n",
      "               '2014-03-04 19:28:00', '2014-03-05 19:28:00',\n",
      "               '2014-03-06 19:28:00', '2014-03-07 19:28:00',\n",
      "               ...\n",
      "               '2016-02-01 19:28:00', '2016-02-02 19:28:00',\n",
      "               '2016-02-03 19:28:00', '2016-02-04 19:28:00',\n",
      "               '2016-02-05 19:28:00', '2016-02-06 19:28:00',\n",
      "               '2016-02-07 19:28:00', '2016-02-08 19:28:00',\n",
      "               '2016-02-09 19:28:00', '2016-02-10 19:28:00'],\n",
      "              dtype='datetime64[ns]', length=715, freq='D')\n"
     ]
    }
   ],
   "source": [
    "index_future_dates=pd.date_range(start='02/26/2014 07:28:00 PM',end='2016/02/10 07:28:00 PM')\n",
    "print(index_future_dates)\n",
    "pred=model2.predict(start=len(df2),end=len(df2)+714,type='levels').rename('ARIMA Predictions')\n",
    "# print(comp_pred)\n",
    "pred.index=index_future_dates\n",
    "# print(comp_pred)"
   ]
  },
  {
   "cell_type": "code",
   "execution_count": 20,
   "id": "323f3fdd",
   "metadata": {},
   "outputs": [
    {
     "data": {
      "text/plain": [
       "<AxesSubplot:>"
      ]
     },
     "execution_count": 20,
     "metadata": {},
     "output_type": "execute_result"
    },
    {
     "data": {
      "image/png": "[encoded data removed]",
      "text/plain": [
       "<Figure size 864x360 with 1 Axes>"
      ]
     },
     "metadata": {
      "needs_background": "light"
     },
     "output_type": "display_data"
    }
   ],
   "source": [
    "pred.plot(figsize=(12,5),legend=True)"
   ]
  }
 ],
 "metadata": {
  "kernelspec": {
   "display_name": "Python 3 (ipykernel)",
   "language": "python",
   "name": "python3"
  },
  "language_info": {
   "codemirror_mode": {
    "name": "ipython",
    "version": 3
   },
   "file_extension": ".py",
   "mimetype": "text/x-python",
   "name": "python",
   "nbconvert_exporter": "python",
   "pygments_lexer": "ipython3",
   "version": "3.10.0"
  }
 },
 "nbformat": 4,
 "nbformat_minor": 5
}
