{
 "cells": [
  {
   "cell_type": "markdown",
   "id": "e50f5c9e",
   "metadata": {},
   "source": [
    "# RNN"
   ]
  },
  {
   "cell_type": "code",
   "execution_count": 1,
   "id": "3f7ed32b",
   "metadata": {},
   "outputs": [],
   "source": [
    "import pandas as pd\n",
    "import numpy as np\n",
    "import matplotlib.pyplot as plt"
   ]
  },
  {
   "cell_type": "code",
   "execution_count": 2,
   "id": "b2178ce7",
   "metadata": {},
   "outputs": [],
   "source": [
    "# import csv dataset\n",
    "df=pd.read_csv('divvy-tripdata_cleaned.csv',index_col=1,parse_dates=True)\n",
    "\n",
    "# make into dataframe\n",
    "df2=pd.DataFrame(df)\n",
    "\n",
    "# which columns to include alongside column acting as index\n",
    "cols=[3]\n",
    "df2=df2[df2.columns[cols]]"
   ]
  },
  {
   "cell_type": "code",
   "execution_count": 4,
   "id": "80d74c12",
   "metadata": {},
   "outputs": [
    {
     "data": {
      "text/html": [
       "<div>\n",
       "<style scoped>\n",
       "    .dataframe tbody tr th:only-of-type {\n",
       "        vertical-align: middle;\n",
       "    }\n",
       "\n",
       "    .dataframe tbody tr th {\n",
       "        vertical-align: top;\n",
       "    }\n",
       "\n",
       "    .dataframe thead th {\n",
       "        text-align: right;\n",
       "    }\n",
       "</style>\n",
       "<table border=\"1\" class=\"dataframe\">\n",
       "  <thead>\n",
       "    <tr style=\"text-align: right;\">\n",
       "      <th></th>\n",
       "      <th>trip_duration</th>\n",
       "    </tr>\n",
       "    <tr>\n",
       "      <th>start_time</th>\n",
       "      <th></th>\n",
       "    </tr>\n",
       "  </thead>\n",
       "  <tbody>\n",
       "    <tr>\n",
       "      <th>2013-06-30 11:04:00</th>\n",
       "      <td>1538</td>\n",
       "    </tr>\n",
       "    <tr>\n",
       "      <th>2013-06-30 11:35:00</th>\n",
       "      <td>1108</td>\n",
       "    </tr>\n",
       "    <tr>\n",
       "      <th>2013-06-30 11:55:00</th>\n",
       "      <td>2063</td>\n",
       "    </tr>\n",
       "    <tr>\n",
       "      <th>2013-06-30 12:03:00</th>\n",
       "      <td>775</td>\n",
       "    </tr>\n",
       "    <tr>\n",
       "      <th>2013-06-30 12:15:00</th>\n",
       "      <td>784</td>\n",
       "    </tr>\n",
       "  </tbody>\n",
       "</table>\n",
       "</div>"
      ],
      "text/plain": [
       "                     trip_duration\n",
       "start_time                        \n",
       "2013-06-30 11:04:00           1538\n",
       "2013-06-30 11:35:00           1108\n",
       "2013-06-30 11:55:00           2063\n",
       "2013-06-30 12:03:00            775\n",
       "2013-06-30 12:15:00            784"
      ]
     },
     "execution_count": 4,
     "metadata": {},
     "output_type": "execute_result"
    }
   ],
   "source": [
    "# sorting the dataframe\n",
    "df3=df2.sort_values(\"start_time\")\n",
    "df3.head()"
   ]
  },
  {
   "cell_type": "code",
   "execution_count": 5,
   "id": "1b9fb704",
   "metadata": {},
   "outputs": [
    {
     "data": {
      "text/plain": [
       "<AxesSubplot:xlabel='start_time'>"
      ]
     },
     "execution_count": 5,
     "metadata": {},
     "output_type": "execute_result"
    },
    {
     "data": {
      "image/png": "[encoded data removed]",
      "text/plain": [
       "<Figure size 864x432 with 1 Axes>"
      ]
     },
     "metadata": {
      "needs_background": "light"
     },
     "output_type": "display_data"
    }
   ],
   "source": [
    "df3.plot(figsize=(12,6))"
   ]
  },
  {
   "cell_type": "code",
   "execution_count": 6,
   "id": "8b30e525",
   "metadata": {},
   "outputs": [],
   "source": [
    "from statsmodels.tsa.seasonal import seasonal_decompose"
   ]
  },
  {
   "cell_type": "code",
   "execution_count": 8,
   "id": "76e63756",
   "metadata": {},
   "outputs": [],
   "source": [
    "# results=seasonal_decompose(df3['trip_duration'])\n",
    "# results.plot()"
   ]
  },
  {
   "cell_type": "code",
   "execution_count": 9,
   "id": "7ee28904",
   "metadata": {},
   "outputs": [
    {
     "data": {
      "text/plain": [
       "76000"
      ]
     },
     "execution_count": 9,
     "metadata": {},
     "output_type": "execute_result"
    }
   ],
   "source": [
    "len(df3)"
   ]
  },
  {
   "cell_type": "code",
   "execution_count": 12,
   "id": "74df2492",
   "metadata": {},
   "outputs": [],
   "source": [
    "train=df3.iloc[:75000]\n",
    "test=df3.iloc[75000:]"
   ]
  },
  {
   "cell_type": "code",
   "execution_count": 13,
   "id": "e2e61435",
   "metadata": {},
   "outputs": [],
   "source": [
    "from sklearn.preprocessing import MinMaxScaler\n",
    "scaler=MinMaxScaler()"
   ]
  },
  {
   "cell_type": "code",
   "execution_count": 14,
   "id": "ebc27a04",
   "metadata": {},
   "outputs": [
    {
     "data": {
      "text/plain": [
       "(                     trip_duration\n",
       " start_time                        \n",
       " 2013-06-30 11:04:00           1538\n",
       " 2013-06-30 11:35:00           1108\n",
       " 2013-06-30 11:55:00           2063\n",
       " 2013-06-30 12:03:00            775\n",
       " 2013-06-30 12:15:00            784,\n",
       "                      trip_duration\n",
       " start_time                        \n",
       " 2014-07-27 19:17:00            183\n",
       " 2014-07-27 19:18:00            421\n",
       " 2014-07-27 19:18:00           1150\n",
       " 2014-07-27 19:19:00            951\n",
       " 2015-12-31 17:35:00            521)"
      ]
     },
     "execution_count": 14,
     "metadata": {},
     "output_type": "execute_result"
    }
   ],
   "source": [
    "df3.head(),df3.tail()"
   ]
  },
  {
   "cell_type": "code",
   "execution_count": 15,
   "id": "23d230cc",
   "metadata": {},
   "outputs": [],
   "source": [
    "scaler.fit(train)\n",
    "scaled_train=scaler.transform(train)\n",
    "scaled_test=scaler.transform(test)"
   ]
  },
  {
   "cell_type": "code",
   "execution_count": 16,
   "id": "eef9869b",
   "metadata": {},
   "outputs": [
    {
     "data": {
      "text/plain": [
       "array([[0.01717207],\n",
       "       [0.01217614],\n",
       "       [0.02327176],\n",
       "       [0.00830719],\n",
       "       [0.00841176],\n",
       "       [0.00898106],\n",
       "       [0.00160335],\n",
       "       [0.02083188],\n",
       "       [0.01344255],\n",
       "       [0.01943767]])"
      ]
     },
     "execution_count": 16,
     "metadata": {},
     "output_type": "execute_result"
    }
   ],
   "source": [
    "scaled_train[:10]"
   ]
  },
  {
   "cell_type": "code",
   "execution_count": null,
   "id": "c8d4449e",
   "metadata": {},
   "outputs": [],
   "source": [
    "pip install tensorflow"
   ]
  },
  {
   "cell_type": "code",
   "execution_count": null,
   "id": "7e918421",
   "metadata": {},
   "outputs": [],
   "source": [
    "from keras.preprocessing.sequence import TimeseriesGenerator"
   ]
  },
  {
   "cell_type": "code",
   "execution_count": null,
   "id": "0fce1799",
   "metadata": {},
   "outputs": [],
   "source": [
    "# define generator\n",
    "n_input=3\n",
    "n_features=1\n",
    "generator=TimeseriesGenerator(scaled_train,scaled_train,length=n_input,batch_size=1)"
   ]
  },
  {
   "cell_type": "code",
   "execution_count": null,
   "id": "c5e614b1",
   "metadata": {},
   "outputs": [],
   "source": [
    "X,y=generator[0]\n",
    "print(f'Given the array: \\n{X.flatten()}')\n",
    "print(f'Predict this y: \\n {y}')"
   ]
  },
  {
   "cell_type": "code",
   "execution_count": null,
   "id": "7ded565e",
   "metadata": {},
   "outputs": [],
   "source": []
  }
 ],
 "metadata": {
  "kernelspec": {
   "display_name": "Python 3 (ipykernel)",
   "language": "python",
   "name": "python3"
  },
  "language_info": {
   "codemirror_mode": {
    "name": "ipython",
    "version": 3
   },
   "file_extension": ".py",
   "mimetype": "text/x-python",
   "name": "python",
   "nbconvert_exporter": "python",
   "pygments_lexer": "ipython3",
   "version": "3.10.0"
  }
 },
 "nbformat": 4,
 "nbformat_minor": 5
}
